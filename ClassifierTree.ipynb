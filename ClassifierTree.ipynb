{
 "cells": [
  {
   "cell_type": "code",
   "execution_count": 1,
   "source": [
    "import pandas as pd\n",
    "import numpy as np\n",
    "import matplotlib.pyplot as plt\n",
    "from sklearn.datasets import load_iris\n",
    "from collections.abc import Iterable"
   ],
   "outputs": [],
   "metadata": {}
  },
  {
   "cell_type": "markdown",
   "source": [
    "## Get dataset from sklearn module and divide it into data and target\n"
   ],
   "metadata": {}
  },
  {
   "cell_type": "code",
   "execution_count": 2,
   "source": [
    "iris = load_iris()\n",
    "X = iris.data\n",
    "y = iris.target\n",
    "df = pd.DataFrame(X, columns=iris.feature_names)\n",
    "df[\"Class\"] = y\n"
   ],
   "outputs": [],
   "metadata": {}
  },
  {
   "cell_type": "markdown",
   "source": [
    "### Get general description about dataset"
   ],
   "metadata": {}
  },
  {
   "cell_type": "code",
   "execution_count": 4,
   "source": [
    "df.describe()\n",
    "print(iris.DESCR)"
   ],
   "outputs": [
    {
     "output_type": "stream",
     "name": "stdout",
     "text": [
      ".. _iris_dataset:\n",
      "\n",
      "Iris plants dataset\n",
      "--------------------\n",
      "\n",
      "**Data Set Characteristics:**\n",
      "\n",
      "    :Number of Instances: 150 (50 in each of three classes)\n",
      "    :Number of Attributes: 4 numeric, predictive attributes and the class\n",
      "    :Attribute Information:\n",
      "        - sepal length in cm\n",
      "        - sepal width in cm\n",
      "        - petal length in cm\n",
      "        - petal width in cm\n",
      "        - class:\n",
      "                - Iris-Setosa\n",
      "                - Iris-Versicolour\n",
      "                - Iris-Virginica\n",
      "                \n",
      "    :Summary Statistics:\n",
      "\n",
      "    ============== ==== ==== ======= ===== ====================\n",
      "                    Min  Max   Mean    SD   Class Correlation\n",
      "    ============== ==== ==== ======= ===== ====================\n",
      "    sepal length:   4.3  7.9   5.84   0.83    0.7826\n",
      "    sepal width:    2.0  4.4   3.05   0.43   -0.4194\n",
      "    petal length:   1.0  6.9   3.76   1.76    0.9490  (high!)\n",
      "    petal width:    0.1  2.5   1.20   0.76    0.9565  (high!)\n",
      "    ============== ==== ==== ======= ===== ====================\n",
      "\n",
      "    :Missing Attribute Values: None\n",
      "    :Class Distribution: 33.3% for each of 3 classes.\n",
      "    :Creator: R.A. Fisher\n",
      "    :Donor: Michael Marshall (MARSHALL%PLU@io.arc.nasa.gov)\n",
      "    :Date: July, 1988\n",
      "\n",
      "The famous Iris database, first used by Sir R.A. Fisher. The dataset is taken\n",
      "from Fisher's paper. Note that it's the same as in R, but not as in the UCI\n",
      "Machine Learning Repository, which has two wrong data points.\n",
      "\n",
      "This is perhaps the best known database to be found in the\n",
      "pattern recognition literature.  Fisher's paper is a classic in the field and\n",
      "is referenced frequently to this day.  (See Duda & Hart, for example.)  The\n",
      "data set contains 3 classes of 50 instances each, where each class refers to a\n",
      "type of iris plant.  One class is linearly separable from the other 2; the\n",
      "latter are NOT linearly separable from each other.\n",
      "\n",
      ".. topic:: References\n",
      "\n",
      "   - Fisher, R.A. \"The use of multiple measurements in taxonomic problems\"\n",
      "     Annual Eugenics, 7, Part II, 179-188 (1936); also in \"Contributions to\n",
      "     Mathematical Statistics\" (John Wiley, NY, 1950).\n",
      "   - Duda, R.O., & Hart, P.E. (1973) Pattern Classification and Scene Analysis.\n",
      "     (Q327.D83) John Wiley & Sons.  ISBN 0-471-22361-1.  See page 218.\n",
      "   - Dasarathy, B.V. (1980) \"Nosing Around the Neighborhood: A New System\n",
      "     Structure and Classification Rule for Recognition in Partially Exposed\n",
      "     Environments\".  IEEE Transactions on Pattern Analysis and Machine\n",
      "     Intelligence, Vol. PAMI-2, No. 1, 67-71.\n",
      "   - Gates, G.W. (1972) \"The Reduced Nearest Neighbor Rule\".  IEEE Transactions\n",
      "     on Information Theory, May 1972, 431-433.\n",
      "   - See also: 1988 MLC Proceedings, 54-64.  Cheeseman et al\"s AUTOCLASS II\n",
      "     conceptual clustering system finds 3 classes in the data.\n",
      "   - Many, many more ...\n"
     ]
    }
   ],
   "metadata": {}
  },
  {
   "cell_type": "markdown",
   "source": [
    "# Actual tree classifier using gini impurity"
   ],
   "metadata": {}
  },
  {
   "cell_type": "code",
   "execution_count": 53,
   "source": [
    "class Node:\n",
    "    def __init__(self, model_class):\n",
    "        self.model_class = model_class\n",
    "        self.feature_index = 0\n",
    "        self.threshold = 0\n",
    "        self.samples = 0\n",
    "        self.left = None\n",
    "        self.right = None"
   ],
   "outputs": [],
   "metadata": {}
  },
  {
   "cell_type": "code",
   "execution_count": 55,
   "source": [
    "class MyDecisionTreeClassifier:\n",
    "    def __init__(self, max_depth: int):\n",
    "        self.max_depth = max_depth\n",
    "\n",
    "    def describe(self):\n",
    "        def _describe(node, depth=0):\n",
    "            if node.left:\n",
    "                print(depth, 'left', [node.model_class, node.samples,\n",
    "                                      node.feature_index, node.threshold])\n",
    "                _describe(node.left, depth+1)\n",
    "            if node.right:\n",
    "                print(depth, 'right', [node.model_class, node.samples,\n",
    "                                       node.feature_index, node.threshold])\n",
    "                _describe(node.right, depth+1)\n",
    "\n",
    "        node = self.tree\n",
    "        print(0, 'root', [node.model_class, node.samples,\n",
    "              node.feature_index, node.threshold])\n",
    "        _describe(node, 1)\n",
    "\n",
    "    def gini(self, sample_distr: list, num_samples: int):\n",
    "        '''\n",
    "        A Gini score gives an idea of how good a split is by how mixed the\n",
    "        classes are in the two groups created by the split.\n",
    "        '''\n",
    "        gini = 1 - sum((n / num_samples)**2 for n in sample_distr)\n",
    "        return gini\n",
    "\n",
    "    def split_data(self, X, y) -> tuple[int, int]:\n",
    "        # test all the possible splits in O(N*F) where N in number of samples\n",
    "        # and F is number of features\n",
    "        # return index and threshold value\n",
    "        node_num_samples = y.size\n",
    "        # if samples are all of one class\n",
    "        if len(np.unique(y)) <= 1:\n",
    "            return None, None\n",
    "        samples_dstr_parent = [np.sum(y == c) for c in range(self.num_classes)]\n",
    "        best_gini = self.gini(samples_dstr_parent, node_num_samples)\n",
    "        best_feature, best_threshold = None, None\n",
    "        # for each feature we will try every considerable threshold\n",
    "        for feature_idx in range(self.num_features):\n",
    "            thresholds, classes = zip(*sorted(zip(X[:, feature_idx], y)))\n",
    "            left_samples_dstr = [0]*self.num_classes\n",
    "            right_samples_dstr = samples_dstr_parent.copy()\n",
    "            for i in range(1, node_num_samples):\n",
    "                c = classes[i-1]\n",
    "                left_samples_dstr[c] += 1\n",
    "                right_samples_dstr[c] -= 1\n",
    "                gini_left = self.gini(left_samples_dstr, i)\n",
    "                gini_right = self.gini(\n",
    "                    right_samples_dstr, node_num_samples - i)\n",
    "                gini_child = (i * gini_left + (node_num_samples - i)\n",
    "                              * gini_right) / node_num_samples\n",
    "                if thresholds[i] == thresholds[i - 1]:\n",
    "                    continue\n",
    "                if gini_child < best_gini:\n",
    "                    best_gini = gini_child\n",
    "                    best_feature = feature_idx\n",
    "                    best_threshold = (thresholds[i] + thresholds[i - 1]) / 2\n",
    "        return best_feature, best_threshold\n",
    "\n",
    "    def build_tree(self, X, y, depth=0):\n",
    "        # recursively split until max depth is not exeeced\n",
    "        samples_dstr = [np.sum(y == i) for i in range(self.num_classes)]\n",
    "        model_class = np.argmax(samples_dstr)\n",
    "        # create a root node\n",
    "        node = Node(model_class)\n",
    "        if depth < self.max_depth:\n",
    "            feature_idx, threshold = self.split_data(X, y)\n",
    "            if feature_idx:\n",
    "                left_tree_mask = X[:, feature_idx] < threshold\n",
    "                X_left, y_left = X[left_tree_mask], y[left_tree_mask]\n",
    "                X_right, y_right = X[~left_tree_mask], y[~left_tree_mask]\n",
    "                node.samples = len(y)\n",
    "                node.feature_index = feature_idx\n",
    "                node.threshold = threshold\n",
    "                node.left = self.build_tree(X_left, y_left, depth + 1)\n",
    "                node.right = self.build_tree(X_right, y_right, depth + 1)\n",
    "        return node\n",
    "\n",
    "    def fit(self, X, y):\n",
    "        # basically wrapper for build tree\n",
    "        self.num_classes = len(set(y))\n",
    "        self.num_features = X.shape[1]\n",
    "        self.tree = self.build_tree(X, y)\n",
    "\n",
    "    def _predict(self, X_test):\n",
    "        # get predicted class from leaf\n",
    "        node = self.tree\n",
    "        while node.left:\n",
    "            if X_test[node.feature_index] < node.threshold:\n",
    "                node = node.left\n",
    "            else:\n",
    "                node = node.right\n",
    "        return node.model_class\n",
    "\n",
    "    def predict(self, X_test):\n",
    "        # traverse the tree while there is left node\n",
    "        # and return the predicted class for it,\n",
    "        # note that X_test can be not only one example\n",
    "        node = self.tree\n",
    "        if isinstance(X_test[0], Iterable):\n",
    "            models = []\n",
    "            for test in X_test:\n",
    "                models.append(self._predict(test))\n",
    "            return models\n",
    "        else:\n",
    "            return self._predict(X_test)\n"
   ],
   "outputs": [],
   "metadata": {}
  },
  {
   "cell_type": "markdown",
   "source": [
    "## Creating and training our model"
   ],
   "metadata": {}
  },
  {
   "cell_type": "code",
   "execution_count": 63,
   "source": [
    "from sklearn.model_selection import train_test_split\n",
    "X = iris.data\n",
    "y = iris.target\n",
    "ctree = MyDecisionTreeClassifier(8)\n",
    "X, X_test, y, y_test = train_test_split(X, y, test_size= 0.2)\n",
    "ctree.fit(X,y)"
   ],
   "outputs": [],
   "metadata": {}
  },
  {
   "cell_type": "markdown",
   "source": [
    "## Testing our model"
   ],
   "metadata": {}
  },
  {
   "cell_type": "code",
   "execution_count": 64,
   "source": [
    "from sklearn.metrics import mean_squared_error\n",
    "models = ctree.predict(X_test)\n",
    "print(mean_squared_error(y_test,models))\n",
    "print(sum(models == y_test) / len(y_test))\n",
    "ctree.describe()\n"
   ],
   "outputs": [
    {
     "output_type": "stream",
     "name": "stdout",
     "text": [
      "0.03333333333333333\n",
      "0.9666666666666667\n",
      "0 root [0, 120, 2, 2.5999999999999996]\n",
      "1 left [0, 120, 2, 2.5999999999999996]\n",
      "1 right [0, 120, 2, 2.5999999999999996]\n",
      "2 left [2, 76, 3, 1.65]\n",
      "3 left [1, 39, 2, 5.0]\n",
      "3 right [1, 39, 2, 5.0]\n",
      "2 right [2, 76, 3, 1.65]\n",
      "3 left [2, 37, 2, 4.85]\n",
      "4 left [2, 4, 1, 3.1]\n",
      "4 right [2, 4, 1, 3.1]\n",
      "3 right [2, 37, 2, 4.85]\n"
     ]
    }
   ],
   "metadata": {}
  },
  {
   "cell_type": "markdown",
   "source": [
    "## Some interesting observations about correlation between features and classes"
   ],
   "metadata": {}
  },
  {
   "cell_type": "code",
   "execution_count": 7,
   "source": [
    "import seaborn as sns\n",
    "plt.figure(figsize=(5,5))\n",
    "cor = df.corr()\n",
    "sns.heatmap(cor,annot = True)\n",
    "plt.show()"
   ],
   "outputs": [
    {
     "output_type": "display_data",
     "data": {
      "image/png": "[encoded data removed]",
      "text/plain": [
       "<Figure size 360x360 with 2 Axes>"
      ]
     },
     "metadata": {
      "needs_background": "light"
     }
    }
   ],
   "metadata": {}
  },
  {
   "cell_type": "markdown",
   "source": [
    "## Another slightly better dataset\n",
    "Also breast_cancer dataset is interesting in terms of number of samples"
   ],
   "metadata": {}
  },
  {
   "cell_type": "code",
   "execution_count": 182,
   "source": [
    "from sklearn.datasets import load_wine\n",
    "wine = load_wine()\n",
    "X = wine.data\n",
    "y = wine.target\n",
    "df = pd.DataFrame(X, columns=wine.feature_names)\n",
    "df[\"Class\"] = y"
   ],
   "outputs": [],
   "metadata": {}
  },
  {
   "cell_type": "code",
   "execution_count": 183,
   "source": [
    "X, X_test, y, y_test = train_test_split(X, y, test_size= 0.2)\n",
    "ctree.fit(X,y)"
   ],
   "outputs": [],
   "metadata": {}
  },
  {
   "cell_type": "code",
   "execution_count": 184,
   "source": [
    "models = ctree.predict(X_test)\n",
    "print(mean_squared_error(y_test,models))\n",
    "sum(models == y_test) / len(y_test)"
   ],
   "outputs": [
    {
     "output_type": "stream",
     "name": "stdout",
     "text": [
      "0.027777777777777776\n"
     ]
    },
    {
     "output_type": "execute_result",
     "data": {
      "text/plain": [
       "0.9722222222222222"
      ]
     },
     "metadata": {},
     "execution_count": 184
    }
   ],
   "metadata": {}
  },
  {
   "cell_type": "markdown",
   "source": [
    "### There are also possible some techniques like:\n",
    "- entropy count(not big difference with gini)\n",
    "- tree pruning and pre-pruning(kinda useless for our initial dataset which can perform well with 2 nodes)\n",
    "- just get a bigger size of more diversified dataset to get better understanding about performance"
   ],
   "metadata": {}
  }
 ],
 "metadata": {
  "orig_nbformat": 4,
  "language_info": {
   "name": "python",
   "version": "3.10.2",
   "mimetype": "text/x-python",
   "codemirror_mode": {
    "name": "ipython",
    "version": 3
   },
   "pygments_lexer": "ipython3",
   "nbconvert_exporter": "python",
   "file_extension": ".py"
  },
  "kernelspec": {
   "name": "python3",
   "display_name": "Python 3.10.2 64-bit ('venv': venv)"
  },
  "interpreter": {
   "hash": "84884c21a424f548480ff56bb47c385a6a3b3c270761b3e2d7f10d8dfdb5f6a8"
  }
 },
 "nbformat": 4,
 "nbformat_minor": 2
}