{
 "cells": [
  {
   "cell_type": "markdown",
   "metadata": {},
   "source": [
    "# Performance comparison of Kruskal's and Prim's MST algos\n",
    "Authors: Pavlo Kryven and Danylo Hotskivsky"
   ]
  },
  {
   "cell_type": "markdown",
   "metadata": {},
   "source": [
    "## Task and experiment description\n",
    "### This experiment's purpose is to demonstrate work of Prim's and Kruskal's algorithms, show one of their implementations and measure their performance depending on number of nodes and edges in graph.\n",
    "\n",
    "### The experiment measures mean time of 1000 finding MST of graphs in different configurations.\n",
    "### For each algo was performed 1000 tries for each combination of (10, 20, 50, 100, 200, 500) nodes and (0.1, 0.3, 0.5, 0.7, 0.9) probabilites of certain edge being in graph.\n",
    "\n",
    "### Then performance of every graph configuration (num of nodes and probability) is compared between our observed algorithms. Based on this information the conclusion about performance and scenarios of usage are made."
   ]
  },
  {
   "cell_type": "markdown",
   "metadata": {},
   "source": [
    "## Computer Specifiction\n",
    "### - processor: AMD Ryzen 7 5700U\n",
    "### - number of cores: 8\n",
    "### - frequency: 1.8 - 4.3 GHz\n",
    "### - memory: 15.08 GiB\n",
    "### - os: Arch Linux\n",
    "### - kernel: Linux 5.15.7-arch1-1"
   ]
  },
  {
   "cell_type": "markdown",
   "metadata": {},
   "source": [
    "![purple-divider](https://user-images.githubusercontent.com/7065401/52071927-c1cd7100-2562-11e9-908a-dde91ba14e59.png)"
   ]
  },
  {
   "cell_type": "markdown",
   "metadata": {},
   "source": [
    "## Kruskal's Algorithm"
   ]
  },
  {
   "cell_type": "code",
   "execution_count": null,
   "metadata": {},
   "outputs": [],
   "source": [
    "def kruskal(graph):\n",
    "    edges = graph[1]\n",
    "    nodes = graph[0]\n",
    "    components = [set(node) for node in list(map(lambda x: [x],nodes))]\n",
    "    tree = []\n",
    "    edges.sort(key=lambda x: x[2])\n",
    "    component1 = 0\n",
    "    component2 = 1\n",
    "    for edge in edges:\n",
    "        component1 = component2 = set()\n",
    "        for component in components:\n",
    "            if edge[0] in component:\n",
    "                component1 = component\n",
    "            elif edge[1] in component:\n",
    "                component2 = component\n",
    "        if component1 != component2 and component1!=set() and component2!=set():\n",
    "            component1.update(component2)\n",
    "            components.remove(component2)\n",
    "            tree.append(edge)\n",
    "        if len(tree) == len(nodes) - 1:\n",
    "            break\n",
    "    return tree"
   ]
  },
  {
   "cell_type": "markdown",
   "metadata": {},
   "source": [
    "## Prim's Algorithm"
   ]
  },
  {
   "cell_type": "code",
   "execution_count": 1,
   "metadata": {},
   "outputs": [],
   "source": [
    "from heapq import heappop, heappush\n",
    "\n",
    "\n",
    "def prim_heaps(graph):\n",
    "    mst = []\n",
    "    used_verts = set()\n",
    "    num_verts = len(graph[0])\n",
    "    edges = [[] for _ in range(num_verts)]\n",
    "    for edge in graph[1]:\n",
    "        if edge[0] == edge[1]: continue\n",
    "        heappush(edges[edge[0]], (edge[2], edge[1]))\n",
    "        heappush(edges[edge[1]], (edge[2], edge[0]))\n",
    "    \n",
    "    cost, dest = 0, 1\n",
    "    while len(used_verts) < num_verts:\n",
    "        smallest_edge_vert = 0\n",
    "        for vert in used_verts:\n",
    "            while(len(edges[vert])) > 0 and edges[vert][0][dest] in used_verts:\n",
    "                heappop(edges[vert])\n",
    "            \n",
    "            if len(edges[vert]) == 0: continue\n",
    "\n",
    "            if len(edges[smallest_edge_vert]) == 0 or edges[vert][0][cost] < edges[smallest_edge_vert][0][cost]:\n",
    "                smallest_edge_vert = vert\n",
    "        edge = heappop(edges[smallest_edge_vert])\n",
    "        mst.append((smallest_edge_vert, edge[dest], edge[cost]))\n",
    "        used_verts.add(smallest_edge_vert)\n",
    "        used_verts.add(edge[dest])\n",
    "    \n",
    "    return mst"
   ]
  },
  {
   "cell_type": "markdown",
   "metadata": {},
   "source": [
    "### Primitive implementation of prim's algorithm"
   ]
  },
  {
   "cell_type": "code",
   "execution_count": null,
   "metadata": {},
   "outputs": [],
   "source": [
    "def prim(graph):\n",
    "    edges = graph[1]\n",
    "    nodes = graph[0]\n",
    "    tree = []\n",
    "    connected = {edges[0][0]}\n",
    "    for i in range(len(nodes) - 1):\n",
    "        min_edges = []\n",
    "        for edge in edges:\n",
    "            if (edge[0] in connected) and (edge[1] not in connected):\n",
    "                min_edges.append(edge)\n",
    "            elif (edge[1] in connected) and (edge[0] not in connected):\n",
    "                min_edges.append(edge)\n",
    "        min_edge = sorted(min_edges, key = lambda x: x[2])[0]\n",
    "        tree.append(min_edge)\n",
    "        connected.add(min_edge[2])\n",
    "    return tree"
   ]
  },
  {
   "cell_type": "markdown",
   "metadata": {},
   "source": [
    "## Experiments environment"
   ]
  },
  {
   "cell_type": "code",
   "execution_count": 6,
   "metadata": {},
   "outputs": [],
   "source": [
    "import random\n",
    "import networkx as nx\n",
    "import matplotlib.pyplot as plt\n",
    "import time\n",
    "\n",
    "from itertools import combinations, groupby\n",
    "from tqdm import tqdm\n",
    "\n",
    "def gnp_random_connected_graph(num_of_nodes: int,\n",
    "                               completeness: int,\n",
    "                               draw: bool = False) -> list[tuple[int, int]]:\n",
    "    \"\"\"\n",
    "    Generates a random undirected graph, similarly to an Erdős-Rényi \n",
    "    graph, but enforcing that the resulting graph is conneted\n",
    "    \"\"\"\n",
    "\n",
    "    edges = combinations(range(num_of_nodes), 2)\n",
    "    G = nx.Graph()\n",
    "    G.add_nodes_from(range(num_of_nodes))\n",
    "\n",
    "    for _, node_edges in groupby(edges, key=lambda x: x[0]):\n",
    "        node_edges = list(node_edges)\n",
    "        random_edge = random.choice(node_edges)\n",
    "        G.add_edge(*random_edge)\n",
    "        for e in node_edges:\n",
    "            if random.random() < completeness:\n",
    "                G.add_edge(*e)\n",
    "\n",
    "    for (u, v, w) in G.edges(data=True):\n",
    "        w['weight'] = random.randint(0, 10)\n",
    "\n",
    "    if draw:\n",
    "        plt.figure(figsize=(10, 6))\n",
    "        nx.draw(G, node_color='lightblue',\n",
    "        with_labels=True,\n",
    "                node_size=500)\n",
    "\n",
    "    return G"
   ]
  },
  {
   "cell_type": "code",
   "execution_count": null,
   "metadata": {},
   "outputs": [],
   "source": [
    "NUM_OF_ITERATIONS = 1000\n",
    "\n",
    "def performance_test(num_vert, probability, method):\n",
    "    time_taken = 0\n",
    "    for i in tqdm(range(NUM_OF_ITERATIONS)):\n",
    "\n",
    "        # note that we should not measure time of graph creation\n",
    "        G = gnp_random_connected_graph(num_vert, probability, False)\n",
    "        edges = list(map(lambda x: (x[0], x[1], x[2]['weight']), G.edges.data()))\n",
    "        nodes = list(G.nodes)\n",
    "        my_graph = (nodes, edges)\n",
    "        if method == 'kruskal':\n",
    "            f = kruskal\n",
    "        elif method == 'prim':\n",
    "            f = prim\n",
    "        elif method == 'prim_heaps':\n",
    "            f = prim_heaps\n",
    "        start = time.time()\n",
    "        f(my_graph)\n",
    "        end = time.time()\n",
    "\n",
    "        time_taken += end - start\n",
    "\n",
    "    time_taken / NUM_OF_ITERATIONS\n",
    "    return time_taken"
   ]
  },
  {
   "cell_type": "code",
   "execution_count": null,
   "metadata": {},
   "outputs": [],
   "source": [
    "verts = [10, 20, 50, 100, 200, 300, 500]\n",
    "probs = [0.1, 0.3, 0.6, 0.9]\n",
    "methods = ['kruskal', 'prim', 'prim_heaps']\n",
    "\n",
    "output = []\n",
    "\n",
    "for method in methods:\n",
    "    for prob in probs:\n",
    "        for vrt in verts:\n",
    "            t = performance_test(vrt, prob, method)\n",
    "            output.append(f'{vrt},{prob},{method},{t}\\n')\n",
    "\n",
    "with open('results.csv', 'w') as file:\n",
    "    file.write('Number of verts,Probability,Method,Time taken\\n')\n",
    "    file.writelines(output)"
   ]
  },
  {
   "cell_type": "markdown",
   "metadata": {},
   "source": [
    "![purple-divider](https://user-images.githubusercontent.com/7065401/52071927-c1cd7100-2562-11e9-908a-dde91ba14e59.png)"
   ]
  },
  {
   "cell_type": "markdown",
   "metadata": {},
   "source": [
    "## General plot for performnace depending on graphs' size"
   ]
  },
  {
   "cell_type": "markdown",
   "metadata": {},
   "source": [
    "![title](assets/output.png)\n",
    "\n",
    "In the left we see Kruskal's algorithm.\n",
    "In the center - Prim's algorithm using heaps.\n",
    "In the right - primitive prim's Algorithm."
   ]
  },
  {
   "cell_type": "markdown",
   "metadata": {},
   "source": [
    "### Performance of algorithms for graphs with 10 nodes\n",
    "\n",
    "On each plot orange line is the performance of Kruskal's algo, and the blue one is Prim's algo"
   ]
  },
  {
   "cell_type": "markdown",
   "metadata": {},
   "source": [
    "---plot for 2 algos where x - probability and y is time\n",
    "![title](assets/10_verts.png)"
   ]
  },
  {
   "cell_type": "markdown",
   "metadata": {},
   "source": [
    "### Performance of algorithms for graphs with 20 nodes"
   ]
  },
  {
   "cell_type": "markdown",
   "metadata": {},
   "source": [
    "---plot for 2 algos where x - probability and y is time\n",
    "![title](assets/20_verts.png)"
   ]
  },
  {
   "cell_type": "markdown",
   "metadata": {},
   "source": [
    "### Performance of algorithms for graphs with 50 nodes"
   ]
  },
  {
   "cell_type": "markdown",
   "metadata": {},
   "source": [
    "---plot for 2 algos where x - probability and y is time\n",
    "![title](assets/50_verts.png)"
   ]
  },
  {
   "cell_type": "markdown",
   "metadata": {},
   "source": [
    "### Performance of algorithms for graphs with 100 nodes"
   ]
  },
  {
   "cell_type": "markdown",
   "metadata": {},
   "source": [
    "---plot for 2 algos where x - probability and y is time\n",
    "![title](assets/100_verts.png)"
   ]
  },
  {
   "cell_type": "markdown",
   "metadata": {},
   "source": [
    "### Performance of algorithms for graphs with 200 nodes"
   ]
  },
  {
   "cell_type": "markdown",
   "metadata": {},
   "source": [
    "---plot for 2 algos where x - probability and y is time\n",
    "![title](assets/200_verts.png)"
   ]
  },
  {
   "cell_type": "markdown",
   "metadata": {},
   "source": [
    "### Performance of algorithms for graph with 500 nodes"
   ]
  },
  {
   "cell_type": "markdown",
   "metadata": {},
   "source": [
    "---plot for 2 algos where x - probability and y is time\n",
    "![title](assets/500_verts.png)"
   ]
  },
  {
   "cell_type": "markdown",
   "metadata": {},
   "source": [
    "![purple-divider](https://user-images.githubusercontent.com/7065401/52071927-c1cd7100-2562-11e9-908a-dde91ba14e59.png)"
   ]
  },
  {
   "cell_type": "markdown",
   "metadata": {},
   "source": [
    "## Result"
   ]
  },
  {
   "cell_type": "markdown",
   "metadata": {},
   "source": [
    "In general, it can be seen that each algorithm coped with the task in a reasonable amount of time, this is because the ammount of vertices was not huge, also Kruskal's algorithm did its job way faster, this is due to appropriate types of data storage and manipulation available in python, algorithm's realisation utilizes language's features. The same on the other hand can not be told about Prim's algorithm. In order for it to work properly we had to use structure called binary heaps. Without them time complexity of this algorithm scales abnormally and firstly it took us about 2 hours to run all tests for Prim's algorithm, with the heap implementation all tests took about 20 minutes."
   ]
  }
 ],
 "metadata": {
  "interpreter": {
   "hash": "e7370f93d1d0cde622a1f8e1c04877d8463912d04d973331ad4851f04de6915a"
  },
  "kernelspec": {
   "display_name": "Python 3.9.9 64-bit",
   "language": "python",
   "name": "python3"
  },
  "language_info": {
   "codemirror_mode": {
    "name": "ipython",
    "version": 3
   },
   "file_extension": ".py",
   "mimetype": "text/x-python",
   "name": "python",
   "nbconvert_exporter": "python",
   "pygments_lexer": "ipython3",
   "version": "3.9.9"
  },
  "orig_nbformat": 4
 },
 "nbformat": 4,
 "nbformat_minor": 2
}
