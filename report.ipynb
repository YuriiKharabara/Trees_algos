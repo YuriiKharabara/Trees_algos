{
 "cells": [
  {
   "cell_type": "markdown",
   "source": [
    "# Performance comparison of Kruskal's and Prim's MST algos\n",
    "Authors: Pavlo Kryven and Danylo Hotskivsky"
   ],
   "metadata": {}
  },
  {
   "cell_type": "markdown",
   "source": [
    "## Task and experiment description\n",
    "### This experiment's purpose is to demonstrate work of Prim's and Kruskal's algorithms, show one of their implementations and measure their performance depending on number of nodes and edges in graph.\n",
    "\n",
    "### The experiment measures mean time of 1000 finding MST of graphs in different configurations.\n",
    "### For each algo was performed 1000 tries for each combination of (10, 20, 50, 100, 200, 500) nodes and (0.1, 0.3, 0.5, 0.7, 0.9) probabilites of certain edge being in graph.\n",
    "\n",
    "### Then performance of every graph configuration (num of nodes and probability) is compared between our observed algorithms. Based on this information the conclusion about performance and scenarios of usage are made."
   ],
   "metadata": {}
  },
  {
   "cell_type": "markdown",
   "source": [
    "## Computer Specifiction\n",
    "### ------------computer's processor memory os-------------\n"
   ],
   "metadata": {}
  },
  {
   "cell_type": "markdown",
   "source": [
    "![purple-divider](https://user-images.githubusercontent.com/7065401/52071927-c1cd7100-2562-11e9-908a-dde91ba14e59.png)"
   ],
   "metadata": {}
  },
  {
   "cell_type": "markdown",
   "source": [
    "## Kruskal's Algorithm"
   ],
   "metadata": {}
  },
  {
   "cell_type": "code",
   "execution_count": null,
   "source": [
    "---kruskal's code here----"
   ],
   "outputs": [],
   "metadata": {}
  },
  {
   "cell_type": "markdown",
   "source": [
    "## Prim's Algorithm"
   ],
   "metadata": {}
  },
  {
   "cell_type": "code",
   "execution_count": null,
   "source": [
    "---prim's code here----"
   ],
   "outputs": [],
   "metadata": {}
  },
  {
   "cell_type": "markdown",
   "source": [
    "## Experiments environment"
   ],
   "metadata": {}
  },
  {
   "cell_type": "code",
   "execution_count": null,
   "source": [
    "-----experiments module here------"
   ],
   "outputs": [],
   "metadata": {}
  },
  {
   "cell_type": "markdown",
   "source": [
    "![purple-divider](https://user-images.githubusercontent.com/7065401/52071927-c1cd7100-2562-11e9-908a-dde91ba14e59.png)"
   ],
   "metadata": {}
  },
  {
   "cell_type": "markdown",
   "source": [
    "## General plot for performnace depending on graphs' size"
   ],
   "metadata": {}
  },
  {
   "cell_type": "code",
   "execution_count": null,
   "source": [
    "----- 3-D plot of performance(якщо не придумаєш як норм відображати на одному для 2 графів то замутиш 2)-------"
   ],
   "outputs": [],
   "metadata": {}
  },
  {
   "cell_type": "markdown",
   "source": [
    "### Performance of algorithms for graphs with 10 nodes"
   ],
   "metadata": {}
  },
  {
   "cell_type": "markdown",
   "source": [
    "---plot for 2 algos where x - probability and y is time"
   ],
   "metadata": {}
  },
  {
   "cell_type": "markdown",
   "source": [
    "### Performance of algorithms for graphs with 20 nodes"
   ],
   "metadata": {}
  },
  {
   "cell_type": "markdown",
   "source": [
    "---plot for 2 algos where x - probability and y is time"
   ],
   "metadata": {}
  },
  {
   "cell_type": "markdown",
   "source": [
    "### Performance of algorithms for graphs with 50 nodes"
   ],
   "metadata": {}
  },
  {
   "cell_type": "markdown",
   "source": [
    "---plot for 2 algos where x - probability and y is time"
   ],
   "metadata": {}
  },
  {
   "cell_type": "markdown",
   "source": [
    "### Performance of algorithms for graphs with 100 nodes"
   ],
   "metadata": {}
  },
  {
   "cell_type": "markdown",
   "source": [
    "---plot for 2 algos where x - probability and y is time"
   ],
   "metadata": {}
  },
  {
   "cell_type": "markdown",
   "source": [
    "### Performance of algorithms for graphs with 200 nodes"
   ],
   "metadata": {}
  },
  {
   "cell_type": "markdown",
   "source": [
    "---plot for 2 algos where x - probability and y is time"
   ],
   "metadata": {}
  },
  {
   "cell_type": "markdown",
   "source": [
    "### Performance of algorithms for graph with 500 nodes"
   ],
   "metadata": {}
  },
  {
   "cell_type": "markdown",
   "source": [
    "---plot for 2 algos where x - probability and y is time"
   ],
   "metadata": {}
  },
  {
   "cell_type": "markdown",
   "source": [
    "![purple-divider](https://user-images.githubusercontent.com/7065401/52071927-c1cd7100-2562-11e9-908a-dde91ba14e59.png)"
   ],
   "metadata": {}
  },
  {
   "cell_type": "markdown",
   "source": [
    "## Result"
   ],
   "metadata": {}
  },
  {
   "cell_type": "markdown",
   "source": [
    "----Result that in our general cases kruskal algo was faster and easier to implement and that there are situations where we need to \n",
    "watch for nodes or for edges, so in this case we need prim's or kruskal's respectively----"
   ],
   "metadata": {}
  }
 ],
 "metadata": {
  "orig_nbformat": 4,
  "language_info": {
   "name": "python"
  }
 },
 "nbformat": 4,
 "nbformat_minor": 2
}