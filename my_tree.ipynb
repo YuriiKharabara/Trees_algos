{
 "cells": [
  {
   "cell_type": "code",
   "execution_count": 488,
   "source": [
    "import pandas as pd\n",
    "import numpy as np\n",
    "import matplotlib.pyplot as plt\n",
    "from sklearn.datasets import load_iris\n",
    "from collections.abc import Iterable"
   ],
   "outputs": [],
   "metadata": {}
  },
  {
   "cell_type": "code",
   "execution_count": 487,
   "source": [
    "iris = load_iris()\n",
    "X = iris.data\n",
    "y = iris.target\n",
    "df = pd.DataFrame(X, columns=iris.feature_names)\n",
    "df[\"Class\"] = y\n"
   ],
   "outputs": [],
   "metadata": {}
  },
  {
   "cell_type": "code",
   "execution_count": 4,
   "source": [
    "df.describe()\n",
    "print(iris.DESCR)"
   ],
   "outputs": [
    {
     "output_type": "stream",
     "name": "stdout",
     "text": [
      ".. _iris_dataset:\n",
      "\n",
      "Iris plants dataset\n",
      "--------------------\n",
      "\n",
      "**Data Set Characteristics:**\n",
      "\n",
      "    :Number of Instances: 150 (50 in each of three classes)\n",
      "    :Number of Attributes: 4 numeric, predictive attributes and the class\n",
      "    :Attribute Information:\n",
      "        - sepal length in cm\n",
      "        - sepal width in cm\n",
      "        - petal length in cm\n",
      "        - petal width in cm\n",
      "        - class:\n",
      "                - Iris-Setosa\n",
      "                - Iris-Versicolour\n",
      "                - Iris-Virginica\n",
      "                \n",
      "    :Summary Statistics:\n",
      "\n",
      "    ============== ==== ==== ======= ===== ====================\n",
      "                    Min  Max   Mean    SD   Class Correlation\n",
      "    ============== ==== ==== ======= ===== ====================\n",
      "    sepal length:   4.3  7.9   5.84   0.83    0.7826\n",
      "    sepal width:    2.0  4.4   3.05   0.43   -0.4194\n",
      "    petal length:   1.0  6.9   3.76   1.76    0.9490  (high!)\n",
      "    petal width:    0.1  2.5   1.20   0.76    0.9565  (high!)\n",
      "    ============== ==== ==== ======= ===== ====================\n",
      "\n",
      "    :Missing Attribute Values: None\n",
      "    :Class Distribution: 33.3% for each of 3 classes.\n",
      "    :Creator: R.A. Fisher\n",
      "    :Donor: Michael Marshall (MARSHALL%PLU@io.arc.nasa.gov)\n",
      "    :Date: July, 1988\n",
      "\n",
      "The famous Iris database, first used by Sir R.A. Fisher. The dataset is taken\n",
      "from Fisher's paper. Note that it's the same as in R, but not as in the UCI\n",
      "Machine Learning Repository, which has two wrong data points.\n",
      "\n",
      "This is perhaps the best known database to be found in the\n",
      "pattern recognition literature.  Fisher's paper is a classic in the field and\n",
      "is referenced frequently to this day.  (See Duda & Hart, for example.)  The\n",
      "data set contains 3 classes of 50 instances each, where each class refers to a\n",
      "type of iris plant.  One class is linearly separable from the other 2; the\n",
      "latter are NOT linearly separable from each other.\n",
      "\n",
      ".. topic:: References\n",
      "\n",
      "   - Fisher, R.A. \"The use of multiple measurements in taxonomic problems\"\n",
      "     Annual Eugenics, 7, Part II, 179-188 (1936); also in \"Contributions to\n",
      "     Mathematical Statistics\" (John Wiley, NY, 1950).\n",
      "   - Duda, R.O., & Hart, P.E. (1973) Pattern Classification and Scene Analysis.\n",
      "     (Q327.D83) John Wiley & Sons.  ISBN 0-471-22361-1.  See page 218.\n",
      "   - Dasarathy, B.V. (1980) \"Nosing Around the Neighborhood: A New System\n",
      "     Structure and Classification Rule for Recognition in Partially Exposed\n",
      "     Environments\".  IEEE Transactions on Pattern Analysis and Machine\n",
      "     Intelligence, Vol. PAMI-2, No. 1, 67-71.\n",
      "   - Gates, G.W. (1972) \"The Reduced Nearest Neighbor Rule\".  IEEE Transactions\n",
      "     on Information Theory, May 1972, 431-433.\n",
      "   - See also: 1988 MLC Proceedings, 54-64.  Cheeseman et al\"s AUTOCLASS II\n",
      "     conceptual clustering system finds 3 classes in the data.\n",
      "   - Many, many more ...\n"
     ]
    }
   ],
   "metadata": {}
  },
  {
   "cell_type": "code",
   "execution_count": 553,
   "source": [
    "class Node:\n",
    "    def __init__(self, model_class):\n",
    "        # self.X = X\n",
    "        # self.y = y\n",
    "        # self.gini = gini\n",
    "        self.model_class = model_class\n",
    "        self.feature_index = 0\n",
    "        self.threshold = 0\n",
    "        self.left = None\n",
    "        self.right = None"
   ],
   "outputs": [],
   "metadata": {}
  },
  {
   "cell_type": "code",
   "execution_count": 567,
   "source": [
    "class MyDecisionTreeClassifier:\n",
    "    \n",
    "    def __init__(self, max_depth):\n",
    "        self.max_depth = max_depth\n",
    "    \n",
    "    def gini(self, sample_distr, num_samples):\n",
    "        '''\n",
    "        A Gini score gives an idea of how good a split is by how mixed the\n",
    "        classes are in the two groups created by the split.\n",
    "        \n",
    "        A perfect separation results in a Gini score of 0,\n",
    "        whereas the worst case split that results in 50/50\n",
    "        classes in each group result in a Gini score of 0.5\n",
    "        (for a 2 class problem).\n",
    "        '''\n",
    "        gini = 1 - sum((n / num_samples)**2 for n in sample_distr)\n",
    "        return gini\n",
    "\n",
    "\n",
    "    def split_data(self, X, y) -> tuple[int, int]:\n",
    "        \n",
    "        # test all the possible splits in O(N^2)\n",
    "        # return index and threshold value\n",
    "        \n",
    "        node_num_samples = y.size\n",
    "        print(y.size)\n",
    "        if node_num_samples <= 1:\n",
    "            return None, None\n",
    "        samples_dstr_parent = [np.sum(y == c) for c in range(self.num_classes)]\n",
    "        best_gini = self.gini(samples_dstr_parent,node_num_samples)\n",
    "        best_feature, best_threshold = None, None\n",
    "        for feature_idx in range(self.num_features):\n",
    "            thresholds, classes = zip(*sorted(zip(X[:, feature_idx], y)))\n",
    "            left_samples_dstr = [0]*self.num_classes\n",
    "            right_samples_dstr = samples_dstr_parent.copy()\n",
    "            for i in range(1,node_num_samples):\n",
    "                c = classes[i-1]\n",
    "                left_samples_dstr[c] += 1\n",
    "                right_samples_dstr[c] -= 1\n",
    "                gini_left = 1.0 - sum(\n",
    "                    (left_samples_dstr[x] / i) ** 2 for x in range(self.num_classes)\n",
    "                )\n",
    "                gini_right = 1.0 - sum(\n",
    "                    (right_samples_dstr[x] / (node_num_samples - i)) ** 2 for x in range(self.num_classes)\n",
    "                )\n",
    "                gini_child = (i * gini_left + (node_num_samples - i) * gini_right) / node_num_samples\n",
    "                if thresholds[i] == thresholds[i - 1]:\n",
    "                    continue\n",
    "                if gini_node < best_gini:\n",
    "                    best_gini = gini_node\n",
    "                    best_feature = feature_idx\n",
    "                    best_threshold = (thresholds[i] + thresholds[i - 1]) / 2\n",
    "        return best_feature, best_threshold\n",
    "    \n",
    "    def build_tree(self, X, y, depth = 0):\n",
    "        # create a root node\n",
    "        # recursively split until max depth is not exeeced\n",
    "        samples_dstr = [np.sum(y == i) for i in range(self.num_classes)]\n",
    "        model_class = np.argmax(samples_dstr)\n",
    "        node = Node(model_class)\n",
    "        if depth < self.max_depth:\n",
    "            feature_idx, threshold = self.split_data(X,y)\n",
    "            if feature_idx:\n",
    "                left_tree_mask = X[:,feature_idx] < threshold\n",
    "                X_left, y_left = X[left_tree_mask], y[left_tree_mask]\n",
    "                X_right, y_right = X[~left_tree_mask], y[~left_tree_mask]\n",
    "                node.feature_index = feature_idx\n",
    "                node.threshold = threshold\n",
    "                node.left = self.build_tree(X_left, y_left, depth + 1)\n",
    "                node.right = self.build_tree(X_right, y_right, depth + 1)\n",
    "        return node\n",
    "        \n",
    "    def fit(self, X, y):\n",
    "        # basically wrapper for build tree\n",
    "        self.num_classes = len(set(y))\n",
    "        self.num_features = X.shape[1]\n",
    "        self.tree = self.build_tree(X,y)\n",
    "    \n",
    "    def _predict(self,X_test):\n",
    "        node = self.tree\n",
    "        while node.left:\n",
    "                if X_test[node.feature_index] < node.threshold:\n",
    "                    node = node.left\n",
    "                else:\n",
    "                    node = node.right\n",
    "        return node.model_class\n",
    "\n",
    "    def predict(self, X_test):\n",
    "        # traverse the tree while there is left node\n",
    "        # and return the predicted class for it, \n",
    "        # note that X_test can be not only one example\n",
    "        node = self.tree\n",
    "        if isinstance(X_test[0],Iterable):\n",
    "            models = []\n",
    "            for test in X_test:\n",
    "                models.append(self._predict(test))\n",
    "            return models\n",
    "        else:\n",
    "            return self._predict(X_test)\n"
   ],
   "outputs": [],
   "metadata": {}
  },
  {
   "cell_type": "code",
   "execution_count": 568,
   "source": [
    "from sklearn.model_selection import train_test_split\n",
    "X = iris.data\n",
    "y = iris.target\n",
    "ctree = MyDecisionTreeClassifier(10)\n",
    "X, X_test, y, y_test = train_test_split(X, y, test_size= 0.25)\n",
    "ctree.fit(X,y)"
   ],
   "outputs": [
    {
     "output_type": "stream",
     "name": "stdout",
     "text": [
      "112\n"
     ]
    },
    {
     "output_type": "error",
     "ename": "NameError",
     "evalue": "name 'node_nusamplples' is not defined",
     "traceback": [
      "\u001b[0;31m---------------------------------------------------------------------------\u001b[0m",
      "\u001b[0;31mNameError\u001b[0m                                 Traceback (most recent call last)",
      "Input \u001b[0;32mIn [568]\u001b[0m, in \u001b[0;36m<module>\u001b[0;34m\u001b[0m\n\u001b[1;32m      4\u001b[0m ctree \u001b[38;5;241m=\u001b[39m MyDecisionTreeClassifier(\u001b[38;5;241m10\u001b[39m)\n\u001b[1;32m      5\u001b[0m X, X_test, y, y_test \u001b[38;5;241m=\u001b[39m train_test_split(X, y, test_size\u001b[38;5;241m=\u001b[39m \u001b[38;5;241m0.25\u001b[39m)\n\u001b[0;32m----> 6\u001b[0m \u001b[43mctree\u001b[49m\u001b[38;5;241;43m.\u001b[39;49m\u001b[43mfit\u001b[49m\u001b[43m(\u001b[49m\u001b[43mX\u001b[49m\u001b[43m,\u001b[49m\u001b[43my\u001b[49m\u001b[43m)\u001b[49m\n",
      "Input \u001b[0;32mIn [567]\u001b[0m, in \u001b[0;36mMyDecisionTreeClassifier.fit\u001b[0;34m(self, X, y)\u001b[0m\n\u001b[1;32m     75\u001b[0m \u001b[38;5;28mself\u001b[39m\u001b[38;5;241m.\u001b[39mnum_classes \u001b[38;5;241m=\u001b[39m \u001b[38;5;28mlen\u001b[39m(\u001b[38;5;28mset\u001b[39m(y))\n\u001b[1;32m     76\u001b[0m \u001b[38;5;28mself\u001b[39m\u001b[38;5;241m.\u001b[39mnum_features \u001b[38;5;241m=\u001b[39m X\u001b[38;5;241m.\u001b[39mshape[\u001b[38;5;241m1\u001b[39m]\n\u001b[0;32m---> 77\u001b[0m \u001b[38;5;28mself\u001b[39m\u001b[38;5;241m.\u001b[39mtree \u001b[38;5;241m=\u001b[39m \u001b[38;5;28;43mself\u001b[39;49m\u001b[38;5;241;43m.\u001b[39;49m\u001b[43mbuild_tree\u001b[49m\u001b[43m(\u001b[49m\u001b[43mX\u001b[49m\u001b[43m,\u001b[49m\u001b[43my\u001b[49m\u001b[43m)\u001b[49m\n",
      "Input \u001b[0;32mIn [567]\u001b[0m, in \u001b[0;36mMyDecisionTreeClassifier.build_tree\u001b[0;34m(self, X, y, depth)\u001b[0m\n\u001b[1;32m     60\u001b[0m node \u001b[38;5;241m=\u001b[39m Node(model_class)\n\u001b[1;32m     61\u001b[0m \u001b[38;5;28;01mif\u001b[39;00m depth \u001b[38;5;241m<\u001b[39m \u001b[38;5;28mself\u001b[39m\u001b[38;5;241m.\u001b[39mmax_depth:\n\u001b[0;32m---> 62\u001b[0m     feature_idx, threshold \u001b[38;5;241m=\u001b[39m \u001b[38;5;28;43mself\u001b[39;49m\u001b[38;5;241;43m.\u001b[39;49m\u001b[43msplit_data\u001b[49m\u001b[43m(\u001b[49m\u001b[43mX\u001b[49m\u001b[43m,\u001b[49m\u001b[43my\u001b[49m\u001b[43m)\u001b[49m\n\u001b[1;32m     63\u001b[0m     \u001b[38;5;28;01mif\u001b[39;00m feature_idx:\n\u001b[1;32m     64\u001b[0m         left_tree_mask \u001b[38;5;241m=\u001b[39m X[:,feature_idx] \u001b[38;5;241m<\u001b[39m threshold\n",
      "Input \u001b[0;32mIn [567]\u001b[0m, in \u001b[0;36mMyDecisionTreeClassifier.split_data\u001b[0;34m(self, X, y)\u001b[0m\n\u001b[1;32m     40\u001b[0m gini_left \u001b[38;5;241m=\u001b[39m \u001b[38;5;241m1.0\u001b[39m \u001b[38;5;241m-\u001b[39m \u001b[38;5;28msum\u001b[39m(\n\u001b[1;32m     41\u001b[0m     (left_samples_dstr[x] \u001b[38;5;241m/\u001b[39m i) \u001b[38;5;241m*\u001b[39m\u001b[38;5;241m*\u001b[39m \u001b[38;5;241m2\u001b[39m \u001b[38;5;28;01mfor\u001b[39;00m x \u001b[38;5;129;01min\u001b[39;00m \u001b[38;5;28mrange\u001b[39m(\u001b[38;5;28mself\u001b[39m\u001b[38;5;241m.\u001b[39mnum_classes)\n\u001b[1;32m     42\u001b[0m )\n\u001b[1;32m     43\u001b[0m gini_right \u001b[38;5;241m=\u001b[39m \u001b[38;5;241m1.0\u001b[39m \u001b[38;5;241m-\u001b[39m \u001b[38;5;28msum\u001b[39m(\n\u001b[1;32m     44\u001b[0m     (right_samples_dstr[x] \u001b[38;5;241m/\u001b[39m (node_num_samples \u001b[38;5;241m-\u001b[39m i)) \u001b[38;5;241m*\u001b[39m\u001b[38;5;241m*\u001b[39m \u001b[38;5;241m2\u001b[39m \u001b[38;5;28;01mfor\u001b[39;00m x \u001b[38;5;129;01min\u001b[39;00m \u001b[38;5;28mrange\u001b[39m(\u001b[38;5;28mself\u001b[39m\u001b[38;5;241m.\u001b[39mnum_classes)\n\u001b[1;32m     45\u001b[0m )\n\u001b[0;32m---> 46\u001b[0m gini_childs \u001b[38;5;241m=\u001b[39m (i \u001b[38;5;241m*\u001b[39m gini_left \u001b[38;5;241m+\u001b[39m (\u001b[43mnode_nusamplples\u001b[49m \u001b[38;5;241m-\u001b[39m i) \u001b[38;5;241m*\u001b[39m gini_right) \u001b[38;5;241m/\u001b[39m node_nusamplples\n\u001b[1;32m     47\u001b[0m \u001b[38;5;28;01mif\u001b[39;00m thresholds[i] \u001b[38;5;241m==\u001b[39m thresholds[i \u001b[38;5;241m-\u001b[39m \u001b[38;5;241m1\u001b[39m]:\n\u001b[1;32m     48\u001b[0m     \u001b[38;5;28;01mcontinue\u001b[39;00m\n",
      "\u001b[0;31mNameError\u001b[0m: name 'node_nusamplples' is not defined"
     ]
    }
   ],
   "metadata": {}
  },
  {
   "cell_type": "code",
   "execution_count": 560,
   "source": [
    "from sklearn.metrics import mean_squared_error\n",
    "models = ctree.predict(X_test)\n",
    "print(mean_squared_error(y_test,models))\n",
    "sum(models == y_test) / len(y_test)\n"
   ],
   "outputs": [
    {
     "output_type": "error",
     "ename": "AttributeError",
     "evalue": "'MyDecisionTreeClassifier' object has no attribute 'tree'",
     "traceback": [
      "\u001b[0;31m---------------------------------------------------------------------------\u001b[0m",
      "\u001b[0;31mAttributeError\u001b[0m                            Traceback (most recent call last)",
      "Input \u001b[0;32mIn [560]\u001b[0m, in \u001b[0;36m<module>\u001b[0;34m\u001b[0m\n\u001b[1;32m      1\u001b[0m \u001b[38;5;28;01mfrom\u001b[39;00m \u001b[38;5;21;01msklearn\u001b[39;00m\u001b[38;5;21;01m.\u001b[39;00m\u001b[38;5;21;01mmetrics\u001b[39;00m \u001b[38;5;28;01mimport\u001b[39;00m mean_squared_error\n\u001b[0;32m----> 2\u001b[0m models \u001b[38;5;241m=\u001b[39m \u001b[43mctree\u001b[49m\u001b[38;5;241;43m.\u001b[39;49m\u001b[43mpredict\u001b[49m\u001b[43m(\u001b[49m\u001b[43mX_test\u001b[49m\u001b[43m)\u001b[49m\n\u001b[1;32m      3\u001b[0m \u001b[38;5;28mprint\u001b[39m(mean_squared_error(y_test,models))\n\u001b[1;32m      4\u001b[0m \u001b[38;5;28msum\u001b[39m(models \u001b[38;5;241m==\u001b[39m y_test) \u001b[38;5;241m/\u001b[39m \u001b[38;5;28mlen\u001b[39m(y_test)\n",
      "Input \u001b[0;32mIn [558]\u001b[0m, in \u001b[0;36mMyDecisionTreeClassifier.predict\u001b[0;34m(self, X_test)\u001b[0m\n\u001b[1;32m     88\u001b[0m \u001b[38;5;28;01mdef\u001b[39;00m \u001b[38;5;21mpredict\u001b[39m(\u001b[38;5;28mself\u001b[39m, X_test):\n\u001b[1;32m     89\u001b[0m     \u001b[38;5;66;03m# traverse the tree while there is left node\u001b[39;00m\n\u001b[1;32m     90\u001b[0m     \u001b[38;5;66;03m# and return the predicted class for it, \u001b[39;00m\n\u001b[1;32m     91\u001b[0m     \u001b[38;5;66;03m# note that X_test can be not only one example\u001b[39;00m\n\u001b[0;32m---> 92\u001b[0m     node \u001b[38;5;241m=\u001b[39m \u001b[38;5;28;43mself\u001b[39;49m\u001b[38;5;241;43m.\u001b[39;49m\u001b[43mtree\u001b[49m\n\u001b[1;32m     93\u001b[0m     \u001b[38;5;28;01mif\u001b[39;00m \u001b[38;5;28misinstance\u001b[39m(X_test[\u001b[38;5;241m0\u001b[39m],Iterable):\n\u001b[1;32m     94\u001b[0m         models \u001b[38;5;241m=\u001b[39m []\n",
      "\u001b[0;31mAttributeError\u001b[0m: 'MyDecisionTreeClassifier' object has no attribute 'tree'"
     ]
    }
   ],
   "metadata": {}
  },
  {
   "cell_type": "code",
   "execution_count": 159,
   "source": [
    "cart.tree.right.threshold\n"
   ],
   "outputs": [
    {
     "output_type": "execute_result",
     "data": {
      "text/plain": [
       "1.75"
      ]
     },
     "metadata": {},
     "execution_count": 159
    }
   ],
   "metadata": {}
  }
 ],
 "metadata": {
  "orig_nbformat": 4,
  "language_info": {
   "name": "python",
   "version": "3.10.2",
   "mimetype": "text/x-python",
   "codemirror_mode": {
    "name": "ipython",
    "version": 3
   },
   "pygments_lexer": "ipython3",
   "nbconvert_exporter": "python",
   "file_extension": ".py"
  },
  "kernelspec": {
   "name": "python3",
   "display_name": "Python 3.10.2 64-bit ('venv': venv)"
  },
  "interpreter": {
   "hash": "84884c21a424f548480ff56bb47c385a6a3b3c270761b3e2d7f10d8dfdb5f6a8"
  }
 },
 "nbformat": 4,
 "nbformat_minor": 2
}